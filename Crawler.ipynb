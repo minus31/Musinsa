{
 "cells": [
  {
   "cell_type": "markdown",
   "metadata": {},
   "source": [
    "\n",
    "### - Image , Price , brand name crawler by catecories \n",
    "\n",
    "\n",
    " - label = the number of stars - Weighted by reactions  (except recent products for training)\n",
    " \n",
    " - output = probability \n",
    " \n",
    " "
   ]
  },
  {
   "cell_type": "code",
   "execution_count": 141,
   "metadata": {},
   "outputs": [],
   "source": [
    "from bs4 import BeautifulSoup\n",
    "\n",
    "import requests"
   ]
  },
  {
   "cell_type": "code",
   "execution_count": 142,
   "metadata": {},
   "outputs": [],
   "source": [
    "#  상의 - 가격  과 별점 , 이미지 까지 한번에 크롤링 \n",
    "page = 1 \n",
    "res = requests.get(\"http://store.musinsa.com/app/items/lists/001001/?category=&d_cat_cd=001001&u_cat_cd=&brand=&sort=emt_high&display_cnt=120&page={}&page_kind=category&list_kind=small&free_dlv=&ex_soldout=&sale_goods=&exclusive_yn=&price=&color=&a_cat_cd=&sex=&size=&tag=&popup=&brand_favorite_yn=&goods_favorite_yn=&=&price1=&price2=\".format(page))\n"
   ]
  },
  {
   "cell_type": "code",
   "execution_count": 143,
   "metadata": {},
   "outputs": [],
   "source": [
    "soup = BeautifulSoup(res.content, 'html.parser')"
   ]
  },
  {
   "cell_type": "code",
   "execution_count": 144,
   "metadata": {},
   "outputs": [],
   "source": [
    "def image_download(download_link, title):\n",
    "    res = requests.get(download_link, stream=True)\n",
    "    path = \"/Users/MAC/Desktop/DESKTOP/project/Musinsa/img_data/{}\".format(title)\n",
    "    with open(path, 'wb') as f:\n",
    "        \n",
    "        for chunk in res.iter_content(chunk_size=1024): \n",
    "            if chunk:\n",
    "                f.write(chunk)\n",
    "    return \n",
    "\n"
   ]
  },
  {
   "cell_type": "code",
   "execution_count": 229,
   "metadata": {},
   "outputs": [
    {
     "name": "stdout",
     "output_type": "stream",
     "text": [
      "120\n",
      "120\n",
      "120\n",
      "120\n",
      "120\n",
      "120\n",
      "120\n",
      "120\n",
      "120\n",
      "120\n",
      "120\n",
      "120\n",
      "120\n",
      "120\n"
     ]
    }
   ],
   "source": [
    "z = 1\n",
    "prices = []\n",
    "titles = []\n",
    "labels = []\n",
    "\n",
    "while True:\n",
    "    try:\n",
    "        page = z\n",
    "        res = requests.get(\"http://store.musinsa.com/app/items/lists/001001/?category=&d_cat_cd=001001&u_cat_cd=&brand=&sort=emt_high&display_cnt=120&page={}&page_kind=category&list_kind=small&free_dlv=&ex_soldout=&sale_goods=&exclusive_yn=&price=&color=&a_cat_cd=&sex=&size=&tag=&popup=&brand_favorite_yn=&goods_favorite_yn=&=&price1=&price2=\".format(page))\n",
    "        blocks = soup.select(\"div.li_inner\")\n",
    "        # images = soup.select(\"#contentsItem_list > div.list_img > a > img\")\n",
    "        # blocks \n",
    "        # images.append(soup.select())\n",
    "\n",
    "        print(len(blocks))\n",
    "\n",
    "        for n, b in zip(range(len(blocks)), blocks):\n",
    "            # i = image\n",
    "            try :\n",
    "                i = b.select(\"a > img[src]\")[0]\n",
    "                img_source =  \"http:\" + i[\"src\"]\n",
    "                title = str(z) + str(n)+ i[\"alt\"][:7] + \".jpg\"\n",
    "                titles.append(title)\n",
    "                image_download(img_source, title)\n",
    "                # price\n",
    "                try :\n",
    "                    price_ = b.find(\"p\", class_=\"price\")\n",
    "                    price = re.findall(r'\\w+원', price_.text.replace(\",\", \"\"))[-1]\n",
    "                    prices.append(price)\n",
    "                except : \n",
    "                    price_ = b.find(\"p\", class_=\"price\")\n",
    "                    price = re.find(r'\\w+원', price_.text.replace(\",\", \"\"))\n",
    "                    prices.append(price)\n",
    "                    \n",
    "\n",
    "            except :\n",
    "                i = b.select(\"a > img[data-original]\")[0]\n",
    "                img_source = \"http:\" + i[\"data-original\"]\n",
    "                title = str(z) + str(n)+ i[\"alt\"][:7] + \".jpg\"\n",
    "                titles.append(title)\n",
    "                image_download(img_source, title)\n",
    "                # price\n",
    "                try :\n",
    "                    price_ = b.find(\"p\", class_=\"price\")\n",
    "                    price = re.findall(r'\\w+원', price_.text.replace(\",\", \"\"))[-1]\n",
    "                    prices.append(price)\n",
    "                except : \n",
    "                    price_ = b.find(\"p\", class_=\"price\")\n",
    "                    price = re.find(r'\\w+원', price_.text.replace(\",\", \"\"))\n",
    "                    prices.append(price) \n",
    "        z += 1     \n",
    "\n",
    "\n",
    "    except :\n",
    "        break\n",
    "        \n"
   ]
  },
  {
   "cell_type": "code",
   "execution_count": 228,
   "metadata": {},
   "outputs": [
    {
     "data": {
      "text/plain": [
       "480"
      ]
     },
     "execution_count": 228,
     "metadata": {},
     "output_type": "execute_result"
    }
   ],
   "source": []
  },
  {
   "cell_type": "code",
   "execution_count": 188,
   "metadata": {},
   "outputs": [
    {
     "data": {
      "text/plain": [
       "'25200원'"
      ]
     },
     "execution_count": 188,
     "metadata": {},
     "output_type": "execute_result"
    }
   ],
   "source": [
    "blocks = soup.select(\"div.li_inner\")\n",
    "# __images = blocks[100].select(\"img[data-original]\")\n",
    "# __images[0][\"data-original\"]# img\n",
    "\n",
    "prices = blocks[10].find(\"p\", class_=\"price\")"
   ]
  },
  {
   "cell_type": "code",
   "execution_count": null,
   "metadata": {},
   "outputs": [],
   "source": [
    "//*[@id=\"searchList\"]/li[28]/div[3]/div[2]/p[3]/text()"
   ]
  },
  {
   "cell_type": "code",
   "execution_count": 230,
   "metadata": {},
   "outputs": [
    {
     "data": {
      "text/plain": [
       "<div class=\"li_inner\">\n",
       "<!--image-->\n",
       "<div class=\"list_img\">\n",
       "<!--sales pause-->\n",
       "<!--//sales pause-->\n",
       "<!--auction closed-->\n",
       "<!--p class=\"list_img_auction_closed\">\n",
       "\t\t\t\t\t<a href=\"/app/product/detail/324416/0\">\n",
       "\t\t\t\t\t\t<img src=\"//image.musinsa.com/skin/musinsa/images/prd-auction-closed.png\">\n",
       "\t\t\t\t\t</a>\n",
       "\t\t\t\t</p-->\n",
       "<!--//auction closed-->\n",
       "<a href=\"/app/product/detail/324416/0\">\n",
       "<img alt=\"어커버(ACOVER) [세트상품] 더블 코튼 롱 티셔츠\" src=\"//image.musinsa.com/images/goods_img/20160322/324416/324416_1_125.jpg\" title=\"\"><span class=\"vertical_standard\"></span>\n",
       "</img></a>\n",
       "</div>\n",
       "<!--//image-->\n",
       "<!--info-->\n",
       "<div class=\"article_info\">\n",
       "<p class=\"item_title\"><a href=\"/app/brand/goods_list/acover\">어커버</a></p>\n",
       "<p class=\"list_info\">\n",
       "<a href=\"/app/product/detail/324416/0\">\n",
       "\t\t\t\t\t[세트상품] 더블 코튼 롱 티셔츠</a>\n",
       "</p>\n",
       "<p class=\"price\">\n",
       "<del>60,000원</del>\t\t\t\t\t21,900원\n",
       "\t\t\t\t</p>\n",
       "<p class=\"membership\" onclick=\"viewMemberPrice2('sPrice_324416', '324416', '0');\">MEMBERSHIP PRICE<span class=\"fr\">▼</span></p>\n",
       "<div class=\"member_price\" id=\"sPrice_324416\" style=\"display:none; z-index: 9999;\">\n",
       "<p>무신사 회원가<span class=\"fr\"><a href=\"javascript:void(0);return false;\" onclick=\"viewMemberPrice2('sPrice_324416', '324416', '0');\">X</a></span></p>\n",
       "<ul>\n",
       "<li class=\"pertinent\" style=\"border-bottom:1px solid #ddd;\"><span>&gt;</span>\n",
       "\t\t\t\t\t\t\t비회원<span class=\"txt_price_member\">21,900원</span>\n",
       "</li>\n",
       "</ul>\n",
       "</div>\n",
       "<p class=\"point\"><!--P 219-->\n",
       "<span class=\"img-score score_45\"></span>\n",
       "<span class=\"count\">10,253</span>\n",
       "</p>\n",
       "<span class=\"txt_cnt_like\">\n",
       "<img alt=\"좋아요\" src=\"//image.musinsa.com/skin/musinsa/images/icon_like_small_on.png\"> 8,469\n",
       "\t\t\t\t</img></span>\n",
       "</div>\n",
       "</div>"
      ]
     },
     "execution_count": 230,
     "metadata": {},
     "output_type": "execute_result"
    }
   ],
   "source": [
    "blocks[0]"
   ]
  },
  {
   "cell_type": "code",
   "execution_count": 37,
   "metadata": {},
   "outputs": [
    {
     "data": {
      "text/plain": [
       "<img alt=\"더블유브이프로젝트(WV PROJECT) [패키지] 브리즈 반팔티셔츠 1+1패키지 JJST7166\" src=\"//image.musinsa.com/images/goods_img/20180413/755736/755736_1_125.jpg\"><span class=\"vertical_standard\"></span></img>"
      ]
     },
     "execution_count": 37,
     "metadata": {},
     "output_type": "execute_result"
    }
   ],
   "source": [
    "images[1]"
   ]
  },
  {
   "cell_type": "code",
   "execution_count": null,
   "metadata": {},
   "outputs": [],
   "source": [
    "#contentsItem_list > div.boxed-list-wrapper > div.list-box.box"
   ]
  },
  {
   "cell_type": "code",
   "execution_count": null,
   "metadata": {},
   "outputs": [],
   "source": [
    "#top_time_sale > li:nth-child(1) > div.bestranking_inner.li_inner > div.list_img > a > img"
   ]
  },
  {
   "cell_type": "code",
   "execution_count": null,
   "metadata": {},
   "outputs": [],
   "source": [
    "searchList > li:nth-child > div.li_inner > div.list_img > a > img"
   ]
  },
  {
   "cell_type": "code",
   "execution_count": null,
   "metadata": {},
   "outputs": [],
   "source": [
    "#searchList > li:nth-child(32) > div.li_inner > div.list_img > a > img"
   ]
  },
  {
   "cell_type": "code",
   "execution_count": null,
   "metadata": {},
   "outputs": [],
   "source": [
    "\"#contentsItem_list > div.boxed-list-wrapper > div.list-box.box > ul[search_List] > li.li_box > div.li_inner > div.list_img > a > img\"\n",
    "\n"
   ]
  },
  {
   "cell_type": "code",
   "execution_count": 63,
   "metadata": {},
   "outputs": [
    {
     "data": {
      "text/plain": [
       "22"
      ]
     },
     "execution_count": 63,
     "metadata": {},
     "output_type": "execute_result"
    }
   ],
   "source": [
    "score = soup.select(\"div.li_inner > div.article_info > span\")\n",
    "len(images) - len(score)"
   ]
  },
  {
   "cell_type": "code",
   "execution_count": null,
   "metadata": {},
   "outputs": [],
   "source": []
  },
  {
   "cell_type": "code",
   "execution_count": null,
   "metadata": {},
   "outputs": [],
   "source": []
  },
  {
   "cell_type": "code",
   "execution_count": null,
   "metadata": {},
   "outputs": [],
   "source": []
  },
  {
   "cell_type": "code",
   "execution_count": null,
   "metadata": {},
   "outputs": [],
   "source": []
  },
  {
   "cell_type": "code",
   "execution_count": null,
   "metadata": {},
   "outputs": [],
   "source": []
  },
  {
   "cell_type": "code",
   "execution_count": null,
   "metadata": {},
   "outputs": [],
   "source": []
  }
 ],
 "metadata": {
  "kernelspec": {
   "display_name": "Python 3",
   "language": "python",
   "name": "python3"
  },
  "language_info": {
   "codemirror_mode": {
    "name": "ipython",
    "version": 3
   },
   "file_extension": ".py",
   "mimetype": "text/x-python",
   "name": "python",
   "nbconvert_exporter": "python",
   "pygments_lexer": "ipython3",
   "version": "3.6.2"
  }
 },
 "nbformat": 4,
 "nbformat_minor": 2
}
