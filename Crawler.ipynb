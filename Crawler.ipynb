{
 "cells": [
  {
   "cell_type": "markdown",
   "metadata": {},
   "source": [
    "\n",
    "### - Image , Price , brand name crawler by catecories \n",
    "\n",
    "\n",
    " - label = the number of stars - Weighted by reactions  (except recent products for training)\n",
    " \n",
    " - output = probability \n",
    " \n",
    " "
   ]
  },
  {
   "cell_type": "code",
   "execution_count": 1,
   "metadata": {},
   "outputs": [],
   "source": [
    "from bs4 import BeautifulSoup\n",
    "import requests\n",
    "import re"
   ]
  },
  {
   "cell_type": "code",
   "execution_count": 2,
   "metadata": {},
   "outputs": [],
   "source": [
    "def image_download(download_link, title):\n",
    "    res = requests.get(download_link, stream=True)\n",
    "    path = \"/Users/MAC/Desktop/project/Musinsa/img_data/{}\".format(title)\n",
    "    with open(path, 'wb') as f:\n",
    "        \n",
    "        for chunk in res.iter_content(chunk_size=1024): \n",
    "            if chunk:\n",
    "                f.write(chunk)\n",
    "    return \n",
    "\n"
   ]
  },
  {
   "cell_type": "code",
   "execution_count": 3,
   "metadata": {},
   "outputs": [
    {
     "name": "stdout",
     "output_type": "stream",
     "text": [
      "120\n",
      "count : 10337\n",
      "like : 8501\n",
      "count : 2869\n",
      "like : 2141\n",
      "count : 1972\n",
      "like : 2464\n",
      "count : 1527\n",
      "like : 1285\n",
      "count : 1488\n",
      "like : 1565\n",
      "count : 1157\n",
      "like : 905\n",
      "count : 1148\n",
      "like : 2843\n",
      "count : 1099\n",
      "somethings are missed\n"
     ]
    }
   ],
   "source": [
    "#  상의 - 가격  과 별점 , 이미지 까지 한번에 크롤링 \n",
    "\n",
    "z = 1\n",
    "# 가격 \n",
    "prices = []\n",
    "# image title \n",
    "titles = []\n",
    "# lable - like \n",
    "likes = []\n",
    "# lable - counts \n",
    "counts = []\n",
    "\n",
    "while True:\n",
    "    if len(prices) != len(titles) | len(likes) != len(counts) | len(counts) == len(prices):\n",
    "        print(\"num of price : {}, num of images : {}, num of counts : {}, num of likes : {}\".format(len(prices), len(titles), len(likes), len(counts)))\n",
    "        break\n",
    "    \n",
    "    try:\n",
    "        page = z\n",
    "        res = requests.get(\"http://store.musinsa.com/app/items/lists/001001/?category=&d_cat_cd=001001&u_cat_cd=&brand=&sort=emt_high&display_cnt=120&page={}&page_kind=category&list_kind=small&free_dlv=&ex_soldout=&sale_goods=&exclusive_yn=&price=&color=&a_cat_cd=&sex=&size=&tag=&popup=&brand_favorite_yn=&goods_favorite_yn=&=&price1=&price2=\".format(page))\n",
    "        soup = BeautifulSoup(res.content, 'html.parser')\n",
    "        blocks = soup.select(\"div.li_inner\")\n",
    "        # images = soup.select(\"#contentsItem_list > div.list_img > a > img\")\n",
    "        # blocks \n",
    "        # images.append(soup.select())\n",
    "\n",
    "        print(len(blocks))\n",
    "\n",
    "        for n, b in zip(range(len(blocks)), blocks):\n",
    "            # label data - count\n",
    "            count = b.select_one(\"span.count\")\n",
    "            if count : \n",
    "                count = int(count.text.strip().replace(\",\", \"\"))\n",
    "                print(\"count : {}\".format(count))\n",
    "            else : \n",
    "                count = 0 \n",
    "                print(\"no count\")\n",
    "\n",
    "            counts.append(count)\n",
    "            \n",
    "            # label data - like\n",
    "            like = b.select_one(\"span > img\")\n",
    "            if like :\n",
    "                like = int(like.text.strip().replace(\",\", \"\"))\n",
    "                print(\"like : {}\".format(like) )\n",
    "            else :\n",
    "                like = b.select(\"span\")[-1]\n",
    "                if like : \n",
    "                    like = int(like.text.strip().replace(\",\", \"\"))\n",
    "                    print(\"like : {}\".format(like) )\n",
    "                else : \n",
    "                    like = 0 \n",
    "                    print(\"no like \")\n",
    "\n",
    "            likes.append(like)\n",
    "                \n",
    "        \n",
    "            # i = image\n",
    "            try :\n",
    "                i = b.select(\"a > img[src]\")[0]\n",
    "                img_source =  \"http:\" + i[\"src\"]\n",
    "                title = str(z) + str(n)+ \".jpg\"\n",
    "                titles.append(title)\n",
    "                image_download(img_source, title)\n",
    "                # price\n",
    "                try :\n",
    "                    price_ = b.find(\"p\", class_=\"price\")\n",
    "                    price = re.findall(r'\\w+원', price_.text.replace(\",\", \"\"))[-1]\n",
    "                    prices.append(price)\n",
    "                except : \n",
    "                    price_ = b.find(\"p\", class_=\"price\")\n",
    "                    price = re.find(r'\\w+원', price_.text.replace(\",\", \"\"))\n",
    "                    prices.append(price)\n",
    "                    \n",
    "\n",
    "            except :\n",
    "                i = b.select(\"a > img[data-original]\")[0]\n",
    "                img_source = \"http:\" + i[\"data-original\"]\n",
    "                title = str(z) + str(n) + \".jpg\"\n",
    "                titles.append(title)\n",
    "                image_download(img_source, title)\n",
    "                # price\n",
    "                try :\n",
    "                    price_ = b.find(\"p\", class_=\"price\")\n",
    "                    price = re.findall(r'\\w+원', price_.text.replace(\",\", \"\"))[-1]\n",
    "                    prices.append(price)\n",
    "                except : \n",
    "                    price_ = b.find(\"p\", class_=\"price\")\n",
    "                    price = re.find(r'\\w+원', price_.text.replace(\",\", \"\"))\n",
    "                    prices.append(price) \n",
    "        z += 1     \n",
    "\n",
    "\n",
    "    except :\n",
    "        print('somethings are missed')\n",
    "        break\n",
    "        \n"
   ]
  },
  {
   "cell_type": "code",
   "execution_count": 6,
   "metadata": {},
   "outputs": [
    {
     "data": {
      "text/plain": [
       "8"
      ]
     },
     "execution_count": 6,
     "metadata": {},
     "output_type": "execute_result"
    }
   ],
   "source": [
    "len(counts)"
   ]
  },
  {
   "cell_type": "code",
   "execution_count": 6,
   "metadata": {},
   "outputs": [
    {
     "data": {
      "text/plain": [
       "<div class=\"li_inner\">\n",
       "<!--image-->\n",
       "<div class=\"list_img\">\n",
       "<!--sales pause-->\n",
       "<!--//sales pause-->\n",
       "<!--auction closed-->\n",
       "<!--p class=\"list_img_auction_closed\">\n",
       "\t\t\t\t\t<a href=\"/app/product/detail/498128/0\">\n",
       "\t\t\t\t\t\t<img src=\"//image.musinsa.com/skin/musinsa/images/prd-auction-closed.png\">\n",
       "\t\t\t\t\t</a>\n",
       "\t\t\t\t</p-->\n",
       "<!--//auction closed-->\n",
       "<a href=\"/app/product/detail/498128/0\">\n",
       "<img alt=\"디폴트(DEFAULT) SIGNBOARD TEE(White)\" class=\"lazyload\" data-original=\"//image.musinsa.com/images/goods_img/20170313/498128/498128_1_125.jpg\" title=\"\"/><span class=\"vertical_standard\"></span>\n",
       "</a>\n",
       "</div>\n",
       "<!--//image-->\n",
       "<!--info-->\n",
       "<div class=\"article_info\">\n",
       "<p class=\"item_title\"><a href=\"/app/brand/goods_list/default\">디폴트</a></p>\n",
       "<p class=\"list_info\">\n",
       "<a href=\"/app/product/detail/498128/0\">\n",
       "\t\t\t\t\tSIGNBOARD TEE(White)</a>\n",
       "</p>\n",
       "<p class=\"price\">\n",
       "<del>29,000원</del>\t\t\t\t\t20,300원\n",
       "\t\t\t\t</p>\n",
       "<p class=\"membership\" onclick=\"viewMemberPrice2('sPrice_498128', '498128', '0');\">MEMBERSHIP PRICE<span class=\"fr\">▼</span></p>\n",
       "<div class=\"member_price\" id=\"sPrice_498128\" style=\"display:none; z-index: 9999;\">\n",
       "<p>무신사 회원가<span class=\"fr\"><a href=\"javascript:void(0);return false;\" onclick=\"viewMemberPrice2('sPrice_498128', '498128', '0');\">X</a></span></p>\n",
       "<ul>\n",
       "<li class=\"pertinent\" style=\"border-bottom:1px solid #ddd;\"><span>&gt;</span>\n",
       "\t\t\t\t\t\t\t비회원<span class=\"txt_price_member\">20,300원</span>\n",
       "</li>\n",
       "</ul>\n",
       "</div>\n",
       "<p class=\"time txt_time\" id=\"time_sale_498128\"></p>\n",
       "<span class=\"txt_cnt_like\">\n",
       "<img alt=\"좋아요\" src=\"//image.musinsa.com/skin/musinsa/images/icon_like_small_on.png\"/> 774\n",
       "\t\t\t\t</span>\n",
       "</div>\n",
       "</div>"
      ]
     },
     "execution_count": 6,
     "metadata": {},
     "output_type": "execute_result"
    }
   ],
   "source": [
    "blocks[58]"
   ]
  },
  {
   "cell_type": "code",
   "execution_count": 13,
   "metadata": {},
   "outputs": [],
   "source": [
    "b =blocks[58]\n",
    "\n",
    "i = b.select(\"a > img[src]\")[0]\n",
    "img_source =  \"http:\" + i[\"src\"]\n",
    "title = str(z) + str(n)+ \".jpg\"\n",
    "titles.append(title)\n",
    "image_download(img_source, title)\n",
    "\n",
    "\n",
    "\n"
   ]
  },
  {
   "cell_type": "code",
   "execution_count": 23,
   "metadata": {},
   "outputs": [
    {
     "ename": "NameError",
     "evalue": "name 're' is not defined",
     "output_type": "error",
     "traceback": [
      "\u001b[0;31m---------------------------------------------------------------------------\u001b[0m",
      "\u001b[0;31mNameError\u001b[0m                                 Traceback (most recent call last)",
      "\u001b[0;32m<ipython-input-23-9e5cedfa85ff>\u001b[0m in \u001b[0;36m<module>\u001b[0;34m()\u001b[0m\n\u001b[1;32m      1\u001b[0m \u001b[0mprice_\u001b[0m \u001b[0;34m=\u001b[0m \u001b[0mb\u001b[0m\u001b[0;34m.\u001b[0m\u001b[0mfind\u001b[0m\u001b[0;34m(\u001b[0m\u001b[0;34m\"p\"\u001b[0m\u001b[0;34m,\u001b[0m \u001b[0mclass_\u001b[0m\u001b[0;34m=\u001b[0m\u001b[0;34m\"price\"\u001b[0m\u001b[0;34m)\u001b[0m\u001b[0;34m\u001b[0m\u001b[0m\n\u001b[0;32m----> 2\u001b[0;31m \u001b[0mprice\u001b[0m \u001b[0;34m=\u001b[0m \u001b[0mre\u001b[0m\u001b[0;34m.\u001b[0m\u001b[0mfindall\u001b[0m\u001b[0;34m(\u001b[0m\u001b[0;34mr'\\w+원'\u001b[0m\u001b[0;34m,\u001b[0m \u001b[0mprice_\u001b[0m\u001b[0;34m.\u001b[0m\u001b[0mtext\u001b[0m\u001b[0;34m.\u001b[0m\u001b[0mreplace\u001b[0m\u001b[0;34m(\u001b[0m\u001b[0;34m\",\"\u001b[0m\u001b[0;34m,\u001b[0m \u001b[0;34m\"\"\u001b[0m\u001b[0;34m)\u001b[0m\u001b[0;34m)\u001b[0m\u001b[0;34m[\u001b[0m\u001b[0;34m-\u001b[0m\u001b[0;36m1\u001b[0m\u001b[0;34m]\u001b[0m\u001b[0;34m\u001b[0m\u001b[0m\n\u001b[0m\u001b[1;32m      3\u001b[0m \u001b[0mprices\u001b[0m\u001b[0;34m.\u001b[0m\u001b[0mappend\u001b[0m\u001b[0;34m(\u001b[0m\u001b[0mprice\u001b[0m\u001b[0;34m)\u001b[0m\u001b[0;34m\u001b[0m\u001b[0m\n",
      "\u001b[0;31mNameError\u001b[0m: name 're' is not defined"
     ]
    }
   ],
   "source": [
    "price_ = b.find(\"p\", class_=\"price\")\n",
    "price = re.findall(r'\\w+원', price_.text.replace(\",\", \"\"))[-1]\n",
    "prices.append(price)"
   ]
  },
  {
   "cell_type": "code",
   "execution_count": 14,
   "metadata": {},
   "outputs": [
    {
     "data": {
      "text/plain": [
       "<div class=\"li_inner\">\n",
       "<!--image-->\n",
       "<div class=\"list_img\">\n",
       "<!--sales pause-->\n",
       "<!--//sales pause-->\n",
       "<!--auction closed-->\n",
       "<!--p class=\"list_img_auction_closed\">\n",
       "\t\t\t\t\t<a href=\"/app/product/detail/498128/0\">\n",
       "\t\t\t\t\t\t<img src=\"//image.musinsa.com/skin/musinsa/images/prd-auction-closed.png\">\n",
       "\t\t\t\t\t</a>\n",
       "\t\t\t\t</p-->\n",
       "<!--//auction closed-->\n",
       "<a href=\"/app/product/detail/498128/0\">\n",
       "<img alt=\"디폴트(DEFAULT) SIGNBOARD TEE(White)\" class=\"lazyload\" data-original=\"//image.musinsa.com/images/goods_img/20170313/498128/498128_1_125.jpg\" title=\"\"/><span class=\"vertical_standard\"></span>\n",
       "</a>\n",
       "</div>\n",
       "<!--//image-->\n",
       "<!--info-->\n",
       "<div class=\"article_info\">\n",
       "<p class=\"item_title\"><a href=\"/app/brand/goods_list/default\">디폴트</a></p>\n",
       "<p class=\"list_info\">\n",
       "<a href=\"/app/product/detail/498128/0\">\n",
       "\t\t\t\t\tSIGNBOARD TEE(White)</a>\n",
       "</p>\n",
       "<p class=\"price\">\n",
       "<del>29,000원</del>\t\t\t\t\t20,300원\n",
       "\t\t\t\t</p>\n",
       "<p class=\"membership\" onclick=\"viewMemberPrice2('sPrice_498128', '498128', '0');\">MEMBERSHIP PRICE<span class=\"fr\">▼</span></p>\n",
       "<div class=\"member_price\" id=\"sPrice_498128\" style=\"display:none; z-index: 9999;\">\n",
       "<p>무신사 회원가<span class=\"fr\"><a href=\"javascript:void(0);return false;\" onclick=\"viewMemberPrice2('sPrice_498128', '498128', '0');\">X</a></span></p>\n",
       "<ul>\n",
       "<li class=\"pertinent\" style=\"border-bottom:1px solid #ddd;\"><span>&gt;</span>\n",
       "\t\t\t\t\t\t\t비회원<span class=\"txt_price_member\">20,300원</span>\n",
       "</li>\n",
       "</ul>\n",
       "</div>\n",
       "<p class=\"time txt_time\" id=\"time_sale_498128\"></p>\n",
       "<span class=\"txt_cnt_like\">\n",
       "<img alt=\"좋아요\" src=\"//image.musinsa.com/skin/musinsa/images/icon_like_small_on.png\"/> 774\n",
       "\t\t\t\t</span>\n",
       "</div>\n",
       "</div>"
      ]
     },
     "execution_count": 14,
     "metadata": {},
     "output_type": "execute_result"
    }
   ],
   "source": [
    "blocks[58]"
   ]
  },
  {
   "cell_type": "code",
   "execution_count": 13,
   "metadata": {},
   "outputs": [
    {
     "ename": "AttributeError",
     "evalue": "'NoneType' object has no attribute 'text'",
     "output_type": "error",
     "traceback": [
      "\u001b[0;31m---------------------------------------------------------------------------\u001b[0m",
      "\u001b[0;31mAttributeError\u001b[0m                            Traceback (most recent call last)",
      "\u001b[0;32m<ipython-input-13-d436dc15973c>\u001b[0m in \u001b[0;36m<module>\u001b[0;34m()\u001b[0m\n\u001b[1;32m      1\u001b[0m \u001b[0mb\u001b[0m \u001b[0;34m=\u001b[0m \u001b[0mblocks\u001b[0m\u001b[0;34m[\u001b[0m\u001b[0;36m58\u001b[0m\u001b[0;34m]\u001b[0m\u001b[0;34m\u001b[0m\u001b[0m\n\u001b[1;32m      2\u001b[0m \u001b[0;34m\u001b[0m\u001b[0m\n\u001b[0;32m----> 3\u001b[0;31m \u001b[0mcount\u001b[0m \u001b[0;34m=\u001b[0m \u001b[0mb\u001b[0m\u001b[0;34m.\u001b[0m\u001b[0mselect_one\u001b[0m\u001b[0;34m(\u001b[0m\u001b[0;34m\"span.count\"\u001b[0m\u001b[0;34m)\u001b[0m\u001b[0;34m.\u001b[0m\u001b[0mtext\u001b[0m\u001b[0;34m.\u001b[0m\u001b[0mstrip\u001b[0m\u001b[0;34m(\u001b[0m\u001b[0;34m)\u001b[0m\u001b[0;34m\u001b[0m\u001b[0m\n\u001b[0m\u001b[1;32m      4\u001b[0m \u001b[0;32mif\u001b[0m \u001b[0mcount\u001b[0m \u001b[0;34m:\u001b[0m\u001b[0;34m\u001b[0m\u001b[0m\n\u001b[1;32m      5\u001b[0m     \u001b[0mcount\u001b[0m \u001b[0;34m=\u001b[0m \u001b[0mint\u001b[0m\u001b[0;34m(\u001b[0m\u001b[0mcount\u001b[0m\u001b[0;34m.\u001b[0m\u001b[0mreplace\u001b[0m\u001b[0;34m(\u001b[0m\u001b[0;34m\",\"\u001b[0m\u001b[0;34m,\u001b[0m \u001b[0;34m\"\"\u001b[0m\u001b[0;34m)\u001b[0m\u001b[0;34m)\u001b[0m\u001b[0;34m\u001b[0m\u001b[0m\n",
      "\u001b[0;31mAttributeError\u001b[0m: 'NoneType' object has no attribute 'text'"
     ]
    }
   ],
   "source": [
    "b = blocks[58]\n",
    "\n",
    "count = b.select_one(\"span.count\")\n",
    "if count : \n",
    "    count = int(count.text.strip().replace(\",\", \"\"))\n",
    "    print(\"count : {}\".format(count))\n",
    "else : \n",
    "    count = 0 \n",
    "    print(\"no count\")\n",
    "\n",
    "counts.append(count)\n",
    "\n",
    "# label data - like\n",
    "like = b.select_one(\"span > img\").text.strip()\n",
    "if like :\n",
    "    like = int(like.text.strip().replace(\",\", \"\"))\n",
    "    print(\"like : {}\".format(like) )\n",
    "else :\n",
    "    like = b.select(\"span\")[-1]\n",
    "    if like : \n",
    "        like = int(like.text.strip().replace(\",\", \"\"))\n",
    "        print(\"like : {}\".format(like) )\n",
    "    else : \n",
    "        like = 0 \n",
    "        print(\"no like \")\n",
    "\n",
    "likes.append(like)\n",
    "\n",
    "\n",
    "# i = image\n",
    "try :\n",
    "    i = b.select(\"a > img[src]\")[0]\n",
    "    img_source =  \"http:\" + i[\"src\"]\n",
    "    title = str(z) + str(n)+ \".jpg\"\n",
    "    titles.append(title)\n",
    "    image_download(img_source, title)\n",
    "    # price\n",
    "    try :\n",
    "        price_ = b.find(\"p\", class_=\"price\")\n",
    "        price = re.findall(r'\\w+원', price_.text.replace(\",\", \"\"))[-1]\n",
    "        prices.append(price)\n",
    "    except : \n",
    "        price_ = b.find(\"p\", class_=\"price\")\n",
    "        price = re.find(r'\\w+원', price_.text.replace(\",\", \"\"))\n",
    "        prices.append(price)\n",
    "\n",
    "\n",
    "except :\n",
    "    i = b.select(\"a > img[data-original]\")[0]\n",
    "    img_source = \"http:\" + i[\"data-original\"]\n",
    "    title = str(z) + str(n) + \".jpg\"\n",
    "    titles.append(title)\n",
    "    image_download(img_source, title)\n",
    "    # price\n",
    "    try :\n",
    "        price_ = b.find(\"p\", class_=\"price\")\n",
    "        price = re.findall(r'\\w+원', price_.text.replace(\",\", \"\"))[-1]\n",
    "        prices.append(price)\n",
    "    except : \n",
    "        price_ = b.find(\"p\", class_=\"price\")\n",
    "        price = re.find(r'\\w+원', price_.text.replace(\",\", \"\"))\n",
    "        prices.append(price) "
   ]
  }
 ],
 "metadata": {
  "kernelspec": {
   "display_name": "Python 3",
   "language": "python",
   "name": "python3"
  },
  "language_info": {
   "codemirror_mode": {
    "name": "ipython",
    "version": 3
   },
   "file_extension": ".py",
   "mimetype": "text/x-python",
   "name": "python",
   "nbconvert_exporter": "python",
   "pygments_lexer": "ipython3",
   "version": "3.6.2"
  },
  "latex_envs": {
   "LaTeX_envs_menu_present": true,
   "autocomplete": true,
   "bibliofile": "biblio.bib",
   "cite_by": "apalike",
   "current_citInitial": 1,
   "eqLabelWithNumbers": true,
   "eqNumInitial": 1,
   "hotkeys": {
    "equation": "Ctrl-E",
    "itemize": "Ctrl-I"
   },
   "labels_anchors": false,
   "latex_user_defs": false,
   "report_style_numbering": false,
   "user_envs_cfg": false
  }
 },
 "nbformat": 4,
 "nbformat_minor": 2
}
