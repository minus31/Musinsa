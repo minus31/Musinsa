{
 "cells": [
  {
   "cell_type": "markdown",
   "metadata": {},
   "source": [
    "\n",
    "### - Image , Price , brand name crawler by catecories \n",
    "\n",
    "\n",
    " - label = the number of stars - Weighted by reactions  (except recent products for training)\n",
    " \n",
    " - output = probability \n",
    " \n",
    " "
   ]
  },
  {
   "cell_type": "code",
   "execution_count": 2,
   "metadata": {},
   "outputs": [],
   "source": [
    "from bs4 import BeautifulSoup\n",
    "import requests"
   ]
  },
  {
   "cell_type": "code",
   "execution_count": 3,
   "metadata": {},
   "outputs": [],
   "source": [
    "#  상의 - 가격  과 별점 , 이미지 까지 한번에 크롤링 \n",
    "page = 1 \n",
    "res = requests.get(\"http://store.musinsa.com/app/items/lists/001001/?category=&d_cat_cd=001001&u_cat_cd=&brand=&sort=emt_high&display_cnt=120&page={}&page_kind=category&list_kind=small&free_dlv=&ex_soldout=&sale_goods=&exclusive_yn=&price=&color=&a_cat_cd=&sex=&size=&tag=&popup=&brand_favorite_yn=&goods_favorite_yn=&=&price1=&price2=\".format(page))\n"
   ]
  },
  {
   "cell_type": "code",
   "execution_count": 4,
   "metadata": {},
   "outputs": [],
   "source": [
    "soup = BeautifulSoup(res.content, 'html.parser')"
   ]
  },
  {
   "cell_type": "code",
   "execution_count": 31,
   "metadata": {},
   "outputs": [],
   "source": [
    "def image_download(download_link, title):\n",
    "    res = requests.get(download_link, stream=True)\n",
    "    path = \"/Users/MAC/Desktop/DESKTOP/project/Musinsa/img_data/{}\".format(title)\n",
    "    with open(path, 'wb') as f:\n",
    "        \n",
    "        for chunk in res.iter_content(chunk_size=1024): \n",
    "            if chunk:\n",
    "                f.write(chunk)\n",
    "    return \n",
    "\n"
   ]
  },
  {
   "cell_type": "code",
   "execution_count": 22,
   "metadata": {},
   "outputs": [
    {
     "name": "stdout",
     "output_type": "stream",
     "text": [
      "150\n"
     ]
    }
   ],
   "source": [
    "images = soup.select(\"#contentsItem_list > div.list_img > a > img\")\n",
    "\n",
    "# images.append(soup.select())\n",
    "print(len(images))\n",
    "\n",
    "\n",
    "for n, i in zip(range(len(images)), images):\n",
    "    try :\n",
    "        img_source =  \"http:\" + i[\"src\"]\n",
    "        title = str(n)+ i[\"alt\"][:7] + \".jpg\"\n",
    "        image_download(img_source, title)\n",
    "    except :\n",
    "        img_source = \"http:\" + i[\"data-original\"]\n",
    "        title = str(n)+ i[\"alt\"][:7] + \".jpg\"\n",
    "        image_download(img_source, title)\n",
    "\n",
    "    \n",
    "\n"
   ]
  },
  {
   "cell_type": "code",
   "execution_count": 71,
   "metadata": {},
   "outputs": [
    {
     "data": {
      "text/plain": [
       "<div class=\"li_inner\">\n",
       "<!--image-->\n",
       "<div class=\"list_img\">\n",
       "<!--sales pause-->\n",
       "<!--//sales pause-->\n",
       "<!--auction closed-->\n",
       "<!--p class=\"list_img_auction_closed\">\n",
       "\t\t\t\t\t<a href=\"/app/product/detail/734796/0\">\n",
       "\t\t\t\t\t\t<img src=\"//image.musinsa.com/skin/musinsa/images/prd-auction-closed.png\">\n",
       "\t\t\t\t\t</a>\n",
       "\t\t\t\t</p-->\n",
       "<!--//auction closed-->\n",
       "<a href=\"/app/product/detail/734796/0\">\n",
       "<img alt=\"그루브라임(GROOVE RHYME) 2018 FLOWER PRINT T-SHIRTS (BLACK) [GTS023G23BK]\" class=\"lazyload\" data-original=\"//image.musinsa.com/images/goods_img/20180314/734796/734796_2_125.jpg\" title=\"\"/><span class=\"vertical_standard\"></span>\n",
       "</a>\n",
       "</div>\n",
       "<!--//image-->\n",
       "<!--info-->\n",
       "<div class=\"article_info\">\n",
       "<p class=\"item_title\"><a href=\"/app/brand/goods_list/grooverhyme\">그루브라임</a></p>\n",
       "<p class=\"list_info\">\n",
       "<a href=\"/app/product/detail/734796/0\">\n",
       "\t\t\t\t\t2018 FLOWER PRINT T-SHIRTS (BLACK) [GTS023G23BK]</a>\n",
       "</p>\n",
       "<p class=\"price\">\n",
       "<del>29,000원</del>\t\t\t\t\t15,000원\n",
       "\t\t\t\t</p>\n",
       "<p class=\"membership\" onclick=\"viewMemberPrice2('sPrice_734796', '734796', '0');\">MEMBERSHIP PRICE<span class=\"fr\">▼</span></p>\n",
       "<div class=\"member_price\" id=\"sPrice_734796\" style=\"display:none; z-index: 9999;\">\n",
       "<p>무신사 회원가<span class=\"fr\"><a href=\"javascript:void(0);return false;\" onclick=\"viewMemberPrice2('sPrice_734796', '734796', '0');\">X</a></span></p>\n",
       "<ul>\n",
       "<li class=\"pertinent\" style=\"border-bottom:1px solid #ddd;\"><span>&gt;</span>\n",
       "\t\t\t\t\t\t\t비회원<span class=\"txt_price_member\">15,000원</span>\n",
       "</li>\n",
       "</ul>\n",
       "</div>\n",
       "<p class=\"point\"><!--P 150-->\n",
       "<span class=\"img-score score_45\"></span>\n",
       "<span class=\"count\">17</span>\n",
       "</p>\n",
       "<span class=\"txt_cnt_like\">\n",
       "<img alt=\"좋아요\" src=\"//image.musinsa.com/skin/musinsa/images/icon_like_small_on.png\"/> 202\n",
       "\t\t\t\t</span>\n",
       "</div>\n",
       "</div>"
      ]
     },
     "execution_count": 71,
     "metadata": {},
     "output_type": "execute_result"
    }
   ],
   "source": [
    "blocks[100]"
   ]
  },
  {
   "cell_type": "code",
   "execution_count": null,
   "metadata": {},
   "outputs": [],
   "source": [
    "c"
   ]
  },
  {
   "cell_type": "code",
   "execution_count": 140,
   "metadata": {},
   "outputs": [
    {
     "data": {
      "text/plain": [
       "'\\n39,000원 29,250원\\r\\n\\t\\t\\t\\t\\t\\t\\t\\t\\t'"
      ]
     },
     "execution_count": 140,
     "metadata": {},
     "output_type": "execute_result"
    }
   ],
   "source": [
    "# blocks = soup.select(\"div.li_inner\")\n",
    "# __images = blocks[100].select(\"img[data-original]\")\n",
    "# __images[0][\"data-original\"]# img\n",
    "\n",
    "prices = blocks[10].find(\"p\", class_=\"price\")\n",
    "\n",
    "\n",
    "# re.sub(r'\\s+', '', string = str(prices[0].text))\n",
    "\n",
    "\n",
    "# blocks[1].select(\"img\")"
   ]
  },
  {
   "cell_type": "code",
   "execution_count": null,
   "metadata": {},
   "outputs": [],
   "source": [
    "//*[@id=\"searchList\"]/li[28]/div[3]/div[2]/p[3]/text()"
   ]
  },
  {
   "cell_type": "code",
   "execution_count": null,
   "metadata": {},
   "outputs": [],
   "source": []
  },
  {
   "cell_type": "code",
   "execution_count": 37,
   "metadata": {},
   "outputs": [
    {
     "data": {
      "text/plain": [
       "<img alt=\"더블유브이프로젝트(WV PROJECT) [패키지] 브리즈 반팔티셔츠 1+1패키지 JJST7166\" src=\"//image.musinsa.com/images/goods_img/20180413/755736/755736_1_125.jpg\"><span class=\"vertical_standard\"></span></img>"
      ]
     },
     "execution_count": 37,
     "metadata": {},
     "output_type": "execute_result"
    }
   ],
   "source": [
    "images[1]"
   ]
  },
  {
   "cell_type": "code",
   "execution_count": null,
   "metadata": {},
   "outputs": [],
   "source": [
    "#contentsItem_list > div.boxed-list-wrapper > div.list-box.box"
   ]
  },
  {
   "cell_type": "code",
   "execution_count": null,
   "metadata": {},
   "outputs": [],
   "source": [
    "#top_time_sale > li:nth-child(1) > div.bestranking_inner.li_inner > div.list_img > a > img"
   ]
  },
  {
   "cell_type": "code",
   "execution_count": null,
   "metadata": {},
   "outputs": [],
   "source": [
    "searchList > li:nth-child > div.li_inner > div.list_img > a > img"
   ]
  },
  {
   "cell_type": "code",
   "execution_count": null,
   "metadata": {},
   "outputs": [],
   "source": [
    "#searchList > li:nth-child(32) > div.li_inner > div.list_img > a > img"
   ]
  },
  {
   "cell_type": "code",
   "execution_count": 64,
   "metadata": {},
   "outputs": [
    {
     "data": {
      "text/plain": [
       "[<img alt=\"스위브(SWIB) [세트상품] 스위브 이지 그라운드 반팔티 1+1WF2H15061\" src=\"//image.musinsa.com/images/goods_img/20180404/748711/748711_1_125.jpg\"/>,\n",
       " <img alt=\"헨더(HANDER) BLOCK LINE T-SHIRTS [NAVY]\" src=\"//image.musinsa.com/images/goods_img/20170615/577861/577861_1_125.jpg\"/>,\n",
       " <img alt=\"그루브라임(GROOVE RHYME) 2018 STRIPE LOGO T-SHIRTS OVER FIT (YELLOW) [GTS036G23YE]\" src=\"//image.musinsa.com/images/goods_img/20180327/743324/743324_2_125.jpg\"/>,\n",
       " <img alt=\"컬럼비아(COLUMBIA) [CY2-PM4468-125] 룩아웃 베이 숏 슬리브 티\" src=\"//image.musinsa.com/images/goods_img/20180404/748555/748555_1_125.jpg\"/>,\n",
       " <img alt=\"마하그리드(MAHAGRID) SPACE TEE BLACK(MG1ISMT509A)\" src=\"//image.musinsa.com/images/goods_img/20180411/753917/753917_1_125.jpg\"/>,\n",
       " <img alt=\"반스(VANS) VN0A3DEMBLK1 / 스컬&amp;팜 티셔츠 - 블랙\" src=\"//image.musinsa.com/images/goods_img/20180411/753475/753475_1_125.jpg\"/>,\n",
       " <img alt=\"스테레오 바이널즈(STEREO VINYLS) [SS18 ISA] Astronut T-Shirts(White)\" src=\"//image.musinsa.com/images/goods_img/20180314/734835/734835_2_125.jpg\"/>,\n",
       " <img alt=\"매드마르스(MADMARS) RECT POINT T- SHRITS_PURPLE\" src=\"//image.musinsa.com/images/goods_img/20180302/727050/727050_1_125.jpg\"/>,\n",
       " <img alt=\"프라이노크(FREIKNOCK) 와이 올웨이즈 미 티셔츠(옐로우)\" src=\"//image.musinsa.com/images/goods_img/20170124/475668/475668_2_125.jpg\"/>,\n",
       " <img alt=\"칼하트(CARHARTT) WORKWEAR POCKET T-SHIRT (BLACK)\" src=\"//image.musinsa.com/images/goods_img/20180315/735721/735721_2_125.jpg\" title=\"\"><span class=\"vertical_standard\"></span>\n",
       " </img>,\n",
       " <img alt=\"어커버(ACOVER) [세트상품] 더블 코튼 롱 티셔츠\" src=\"//image.musinsa.com/images/goods_img/20160322/324416/324416_1_125.jpg\" title=\"\"><span class=\"vertical_standard\"></span>\n",
       " </img>,\n",
       " <img alt=\"챔피온(CHAMPION) [세트구성] 챔피온 T425 반팔티셔츠\" src=\"//image.musinsa.com/images/goods_img/20170315/499561/499561_1_125.jpg\" title=\"\"><span class=\"vertical_standard\"></span>\n",
       " </img>,\n",
       " <img alt=\"트리플에이(AAA) 1301 반팔티셔츠\" src=\"//image.musinsa.com/images/goods_img/20151104/274855/274855_5_125.jpg\" title=\"\"><span class=\"vertical_standard\"></span>\n",
       " </img>,\n",
       " <img alt=\"챔피온(CHAMPION) [2팩] 챔피온 반팔티 (T425)\" src=\"//image.musinsa.com/images/goods_img/20180420/760930/760930_1_125.jpg\" title=\"\"><span class=\"vertical_standard\"></span>\n",
       " </img>,\n",
       " <img alt=\"챔피온(CHAMPION) [세트구성] 챔피온 블랙/화이트 T425\" src=\"//image.musinsa.com/images/goods_img/20171201/681947/681947_1_125.jpg\" title=\"\"><span class=\"vertical_standard\"></span>\n",
       " </img>,\n",
       " <img alt=\"꼼파뇨(COMPAGNO) [16수] 헤비 오버핏 블록 로고 반팔\" src=\"//image.musinsa.com/images/goods_img/20170322/503425/503425_1_125.jpg\" title=\"\"><span class=\"vertical_standard\"></span>\n",
       " </img>,\n",
       " <img alt=\"더블유브이프로젝트(WV PROJECT) [패키지] 브리즈 반팔티셔츠 1+1패키지 JJST7166\" src=\"//image.musinsa.com/images/goods_img/20180413/755736/755736_1_125.jpg\" title=\"\"><span class=\"vertical_standard\"></span>\n",
       " </img>,\n",
       " <img alt=\"버닝(BURNING) Office Junior 1/2 T-shirt (Ivory)\" src=\"//image.musinsa.com/images/goods_img/20180305/728444/728444_1_125.jpg\" title=\"\"><span class=\"vertical_standard\"></span>\n",
       " </img>,\n",
       " <img alt=\"칼하트(CARHARTT) WORKWEAR POCKET T-SHIRT (WHITE)\" src=\"//image.musinsa.com/images/goods_img/20180315/735714/735714_2_125.jpg\" title=\"\"><span class=\"vertical_standard\"></span>\n",
       " </img>,\n",
       " <img alt=\"커버낫(COVERNAT) [COVERNAT  X FTL]  2PACK 210g POCKET TEE\" src=\"//image.musinsa.com/images/goods_img/20180417/758380/758380_4_125.jpg\" title=\"\"><span class=\"vertical_standard\"></span>\n",
       " </img>,\n",
       " <img alt=\"매드마르스(MADMARS) 6 SLOGAN T-SHIRTS (BLACK)\" src=\"//image.musinsa.com/images/goods_img/20160513/352303/352303_1_125.jpg\" title=\"\"><span class=\"vertical_standard\"></span>\n",
       " </img>,\n",
       " <img alt=\"챔피온(CHAMPION) [NEW컬러입고]챔피온 T425 반팔티\" src=\"//image.musinsa.com/images/goods_img/20140422/86965/86965_1_125.jpg\" title=\"\"/>,\n",
       " <img alt=\"커버낫(COVERNAT) S/S ARCH LOGO TEE WHITE/RED\" src=\"//image.musinsa.com/images/goods_img/20170414/538899/538899_4_125.jpg\" title=\"\"/>,\n",
       " <img alt=\"디스이즈네버댓(THISISNEVERTHAT) DSN-Logo Tee White\" src=\"//image.musinsa.com/images/goods_img/20180430/769498/769498_1_125.jpg\" title=\"\"/>,\n",
       " <img alt=\"칼하트(CARHARTT) WORKWEAR POCKET T-SHIRT (NAVY)\" src=\"//image.musinsa.com/images/goods_img/20180315/735715/735715_2_125.jpg\" title=\"\"/>,\n",
       " <img alt=\"트리플에이(AAA) 트리플에이 무지티 반팔티셔츠 1301\" src=\"//image.musinsa.com/images/goods_img/20171106/665865/665865_1_125.jpg\" title=\"\"/>,\n",
       " <img alt=\"슬로우애시드(SLOW ACID) [원단선택가능] 트레일러 반팔티 (black)\" src=\"//image.musinsa.com/images/goods_img/20170315/499694/499694_1_125.jpg\" title=\"\"/>,\n",
       " <img alt=\"엘엠씨(LMC) LMC VERTICAL ITALIC LOGO TEE black\" src=\"//image.musinsa.com/images/goods_img/20180427/768519/768519_2_125.jpg\" title=\"\"/>,\n",
       " <img alt=\"어패럴싯(APPARELXIT) 유니섹스 오버핏 플라워 티셔츠 블랙\" src=\"//image.musinsa.com/images/goods_img/20180207/710747/710747_1_125.jpg\" title=\"\"/>,\n",
       " <img alt=\"더블유브이프로젝트(WV PROJECT) 썸머보이스 반팔 아이보리 MJST7092\" src=\"//image.musinsa.com/images/goods_img/20170612/575157/575157_1_125.jpg\" title=\"\"/>,\n",
       " <img alt=\"트리플에이(AAA) (세트구성)1301 무지 반팔티셔츠 블랙/화이트\" src=\"//image.musinsa.com/images/goods_img/20160603/364484/364484_3_125.jpg\" title=\"\"/>,\n",
       " <img alt=\"어커버(ACOVER) 스탠다드 코튼 립 티셔츠\" src=\"//image.musinsa.com/images/goods_img/20160322/324471/324471_1_125.jpg\" title=\"\"/>,\n",
       " <img alt=\"게인스보로(GAINSBORO) [원단선택가능] 오버핏 코코넛 트리 반팔티 오프화이트\" src=\"//image.musinsa.com/images/goods_img/20170620/579724/579724_4_125.jpg\" title=\"\"/>,\n",
       " <img alt=\"칼하트(CARHARTT) WORKWEAR POCKET T-SHIRT (DESERT)\" class=\"lazyload\" data-original=\"//image.musinsa.com/images/goods_img/20180315/735718/735718_2_125.jpg\" title=\"\"/>,\n",
       " <img alt=\"더블유브이프로젝트(WV PROJECT) 투씬 스트라이프 반팔 티셔츠 크림 JJST7090\" class=\"lazyload\" data-original=\"//image.musinsa.com/images/goods_img/20170419/541405/541405_1_125.jpg\" title=\"\"/>,\n",
       " <img alt=\"드로우핏(DRAW FIT) 에센셜 베이직 티셔츠[OFFWHITE]\" class=\"lazyload\" data-original=\"//image.musinsa.com/images/goods_img/20170413/538279/538279_2_125.jpg\" title=\"\"/>,\n",
       " <img alt=\"꼼파뇨(COMPAGNO) [16수] 레터링 타투 오버핏 티셔츠 블랙\" class=\"lazyload\" data-original=\"//image.musinsa.com/images/goods_img/20170322/503413/503413_1_125.jpg\" title=\"\"/>,\n",
       " <img alt=\"내셔널지오그래픽(NATIONALGEOGRAPHIC) N182UTS910 유니섹스 네오디 스몰 로고 반팔티셔츠 WHITE\" class=\"lazyload\" data-original=\"//image.musinsa.com/images/goods_img/20180222/721493/721493_1_125.jpg\" title=\"\"/>,\n",
       " <img alt=\"베리베인(VERYVAIN) TP72 OVERSIZE 7-CUT (EMBO BLACK)\" class=\"lazyload\" data-original=\"//image.musinsa.com/images/goods_img/20170424/544238/544238_1_125.jpg\" title=\"\"/>,\n",
       " <img alt=\"디스이즈네버댓(THISISNEVERTHAT) Cracked T-Logo Tee White\" class=\"lazyload\" data-original=\"//image.musinsa.com/images/goods_img/20180402/746695/746695_1_125.jpg\" title=\"\"/>,\n",
       " <img alt=\"소버먼트 위드 로모트(SOVERMENT WITH LOMORT) 20s never city tee-white\" class=\"lazyload\" data-original=\"//image.musinsa.com/images/goods_img/20160517/354406/354406_7_125.jpg\" title=\"\"/>,\n",
       " <img alt=\"드로우핏(DRAW FIT) 에센셜 베이직 티셔츠[BLACK]\" class=\"lazyload\" data-original=\"//image.musinsa.com/images/goods_img/20170413/538280/538280_1_125.jpg\" title=\"\"/>,\n",
       " <img alt=\"커버낫(COVERNAT) S/S AUTHENTIC LOGO TEE WHITE\" class=\"lazyload\" data-original=\"//image.musinsa.com/images/goods_img/20180330/746280/746280_1_125.jpg\" title=\"\"/>,\n",
       " <img alt=\"앤더슨벨(ANDERSSON BELL) 유니섹스 테크노 심볼 티셔츠 atb184u(Black)\" class=\"lazyload\" data-original=\"//image.musinsa.com/images/goods_img/20180226/724173/724173_6_125.jpg\" title=\"\"/>,\n",
       " <img alt=\"캔리프(CANLEAP) UNISEX SCARBOROUGH 오버핏  16수 반팔티_라이트 블루\" class=\"lazyload\" data-original=\"//image.musinsa.com/images/goods_img/20170629/585105/585105_2_125.jpg\" title=\"\"/>,\n",
       " <img alt=\"어텐션로우(ATTENTIONROW) ATTENTIONROW  비하인드 프린트 반팔티셔츠 (화이트)\" class=\"lazyload\" data-original=\"//image.musinsa.com/images/goods_img/20170530/566837/566837_1_125.jpg\" title=\"\"/>,\n",
       " <img alt=\"엘엠씨(LMC) LMC CO LOGO TEE white\" class=\"lazyload\" data-original=\"//image.musinsa.com/images/goods_img/20180502/771339/771339_4_125.jpg\" title=\"\"/>,\n",
       " <img alt=\"5252 바이 오아이오아이(5252BYOIOI) 2018 시그니처 티셔츠_퍼플\" class=\"lazyload\" data-original=\"//image.musinsa.com/images/goods_img/20180227/725126/725126_1_125.jpg\" title=\"\"><span class=\"vertical_standard\"></span>\n",
       " </img>,\n",
       " <img alt=\"어텐션로우(ATTENTIONROW) ATTENTIONROW  비하인드 프린트 반팔티셔츠 (블랙)\" class=\"lazyload\" data-original=\"//image.musinsa.com/images/goods_img/20170530/566832/566832_1_125.jpg\" title=\"\"/>,\n",
       " <img alt=\"스텝온리(STAFFONLY) CLOSED (BLUE)\" class=\"lazyload\" data-original=\"//image.musinsa.com/images/goods_img/20160603/364184/364184_1_125.jpg\" title=\"\"/>,\n",
       " <img alt=\"바스틱(VASTIC) 파라다이스 티셔츠_화이트\" class=\"lazyload\" data-original=\"//image.musinsa.com/images/goods_img/20170522/561807/561807_1_125.jpg\" title=\"\"/>,\n",
       " <img alt=\"커버낫(COVERNAT) S/S SURFER MAN TEE NAVY\" class=\"lazyload\" data-original=\"//image.musinsa.com/images/goods_img/20180406/751029/751029_1_125.jpg\" title=\"\"/>,\n",
       " <img alt=\"매드마르스(MADMARS) RAGLAN SLOGAN T-SHIRTS (BLUE)\" class=\"lazyload\" data-original=\"//image.musinsa.com/images/goods_img/20160513/352094/352094_1_125.jpg\" title=\"\"/>,\n",
       " <img alt=\"디스이즈네버댓(THISISNEVERTHAT) Cracked T-Logo Tee Black\" class=\"lazyload\" data-original=\"//image.musinsa.com/images/goods_img/20180402/746692/746692_1_125.jpg\" title=\"\"/>,\n",
       " <img alt=\"커버낫(COVERNAT) S/S AUTHENTIC LOGO TEE BLACK\" class=\"lazyload\" data-original=\"//image.musinsa.com/images/goods_img/20180330/746276/746276_1_125.jpg\" title=\"\"/>,\n",
       " <img alt=\"로얄라이프(ROYALLIFE) RL001 로얄라이프 메인로고 반팔티 화이트\" class=\"lazyload\" data-original=\"//image.musinsa.com/images/goods_img/20170418/540421/540421_1_125.jpg\" title=\"\"/>,\n",
       " <img alt=\"어반스터프(URBANSTOFF) USF SOLID MEISTER TEE BLUE\" class=\"lazyload\" data-original=\"//image.musinsa.com/images/goods_img/20170502/549451/549451_3_125.jpg\" title=\"\"/>,\n",
       " <img alt=\"슬로우애시드(SLOW ACID) [원단선택가능] 트레일러 반팔티 (white)\" class=\"lazyload\" data-original=\"//image.musinsa.com/images/goods_img/20170315/499693/499693_2_125.jpg\" title=\"\"/>,\n",
       " <img alt=\"5252 바이 오아이오아이(5252BYOIOI) 2018 시그니처 티셔츠_화이트\" class=\"lazyload\" data-original=\"//image.musinsa.com/images/goods_img/20180227/725101/725101_1_125.jpg\" title=\"\"/>,\n",
       " <img alt=\"트리플에이(AAA) (세트구성)트리플에이 1301 반팔티셔츠\" class=\"lazyload\" data-original=\"//image.musinsa.com/images/goods_img/20170516/557880/557880_2_125.jpg\" title=\"\"/>,\n",
       " <img alt=\"더블유브이프로젝트(WV PROJECT) 투씬 스트라이프 반팔 티셔츠 블랙 JJST7090\" class=\"lazyload\" data-original=\"//image.musinsa.com/images/goods_img/20170419/541404/541404_1_125.jpg\" title=\"\"/>,\n",
       " <img alt=\"칼하트(CARHARTT) WORKWEAR POCKET T-SHIRT (HEATHER GREY)\" class=\"lazyload\" data-original=\"//image.musinsa.com/images/goods_img/20180315/735720/735720_2_125.jpg\" title=\"\"/>,\n",
       " <img alt=\"카멜워크(CAMEL WORK) [M 사이즈 정상출고]Hawaiian Paradise S/S T-Shirts(White)\" class=\"lazyload\" data-original=\"//image.musinsa.com/images/goods_img/20170602/570179/570179_3_125.jpg\" title=\"\"/>,\n",
       " <img alt=\"오베르(OVERR) 18SS SYNTHESIZE BLACK TEE\" class=\"lazyload\" data-original=\"//image.musinsa.com/images/goods_img/20180222/721681/721681_1_125.jpg\" title=\"\"/>,\n",
       " <img alt=\"매드마르스(MADMARS) CODED T-SHIRTS\" class=\"lazyload\" data-original=\"//image.musinsa.com/images/goods_img/20180302/727047/727047_1_125.jpg\" title=\"\"/>,\n",
       " <img alt=\"키르시(KIRSH) 키르시 로고 티셔츠 HS [블랙]\" class=\"lazyload\" data-original=\"//image.musinsa.com/images/goods_img/20180409/751815/751815_2_125.jpg\" title=\"\"/>,\n",
       " <img alt=\"꼼파뇨(COMPAGNO) [20수] 헤비 오버핏 보더 반팔티 블랙\" class=\"lazyload\" data-original=\"//image.musinsa.com/images/goods_img/20170504/550010/550010_2_125.jpg\" title=\"\"/>,\n",
       " <img alt=\"오베르(OVERR) ESSAY.1 INFLUENCE BLACK TEE\" class=\"lazyload\" data-original=\"//image.musinsa.com/images/goods_img/20160715/385379/385379_1_125.jpg\" title=\"\"/>,\n",
       " <img alt=\"커버낫(COVERNAT) S/S SURFER MAN TEE WHITE\" class=\"lazyload\" data-original=\"//image.musinsa.com/images/goods_img/20180406/751030/751030_1_125.jpg\" title=\"\"/>,\n",
       " <img alt=\"어패럴싯(APPARELXIT) 유니섹스 오버핏 플라워 티셔츠 라이트그린\" class=\"lazyload\" data-original=\"//image.musinsa.com/images/goods_img/20180207/710750/710750_1_125.jpg\" title=\"\"/>,\n",
       " <img alt=\"엘엠씨(LMC) LMC FN ITALIC LOGO TEE white\" class=\"lazyload\" data-original=\"//image.musinsa.com/images/goods_img/20180405/749182/749182_1_125.jpg\" title=\"\"/>,\n",
       " <img alt=\"그루브라임(GROOVE RHYME) 2018 COCONUT PALM PRINT T-SHIRTS (WHITE) [GTS043G23WH]\" class=\"lazyload\" data-original=\"//image.musinsa.com/images/goods_img/20180319/738254/738254_1_125.jpg\" title=\"\"/>,\n",
       " <img alt=\"게인스보로(GAINSBORO) [원단선택가능] 오버핏 코코넛 트리 반팔티 블랙\" class=\"lazyload\" data-original=\"//image.musinsa.com/images/goods_img/20170518/559658/559658_8_125.jpg\" title=\"\"/>,\n",
       " <img alt=\"매드마르스(MADMARS) RAGLAN SLOGAN T-SHIRTS (BLACK)\" class=\"lazyload\" data-original=\"//image.musinsa.com/images/goods_img/20160513/352075/352075_1_125.jpg\" title=\"\"/>,\n",
       " <img alt=\"그루브라임(GROOVE RHYME) 2018 BACK HAWAII PRINT T-SHIRTS (BLACK) [GTS016G23BK]\" class=\"lazyload\" data-original=\"//image.musinsa.com/images/goods_img/20180226/724111/724111_3_125.jpg\" title=\"\"/>,\n",
       " <img alt=\"리올그(REORG) PRINTING WOMAN T-SHIRTS GREEN\" class=\"lazyload\" data-original=\"//image.musinsa.com/images/goods_img/20170510/552670/552670_1_125.jpg\" title=\"\"/>,\n",
       " <img alt=\"어커버(ACOVER) [세트상품] 데칼코마니 번 프린팅 티셔츠\" class=\"lazyload\" data-original=\"//image.musinsa.com/images/goods_img/20170405/533653/533653_1_125.jpg\" title=\"\"/>,\n",
       " <img alt=\"로너(LONER) 프레졀 티셔츠-다크블루\" class=\"lazyload\" data-original=\"//image.musinsa.com/images/goods_img/20170616/578324/578324_1_125.jpg\" title=\"\"/>,\n",
       " <img alt=\"커버낫(COVERNAT) S/S ARCH LOGO TEE BLACK / YELLOW\" class=\"lazyload\" data-original=\"//image.musinsa.com/images/goods_img/20180403/747634/747634_1_125.jpg\" title=\"\"/>,\n",
       " <img alt=\"그루브라임(GROOVE RHYME) 2018 FLOWER PRINT T-SHIRTS (BLACK) [GTS023G23BK]\" class=\"lazyload\" data-original=\"//image.musinsa.com/images/goods_img/20180314/734796/734796_2_125.jpg\" title=\"\"/>,\n",
       " <img alt=\"스컬프터(SCULPTOR) 멀티 스트라이프드 링거 티 [브라운/블랙]\" class=\"lazyload\" data-original=\"//image.musinsa.com/images/goods_img/20180316/736498/736498_2_125.jpg\" title=\"\"/>,\n",
       " <img alt=\"5252 바이 오아이오아이(5252BYOIOI) 2018 시그니처 티셔츠_블랙\" class=\"lazyload\" data-original=\"//image.musinsa.com/images/goods_img/20180227/725104/725104_1_125.jpg\" title=\"\"/>,\n",
       " <img alt=\"프룻오브더룸(FRUIT OF THE LOOM) [세트구성] 210g WAPPEN T-SHIRTS\" class=\"lazyload\" data-original=\"//image.musinsa.com/images/goods_img/20180405/749352/749352_4_125.jpg\" title=\"\"/>,\n",
       " <img alt=\"크럼프(CRUMP) 컬러 로고 티 (CT0139-1)\" class=\"lazyload\" data-original=\"//image.musinsa.com/images/goods_img/20180409/751737/751737_1_125.jpg\" title=\"\"/>,\n",
       " <img alt=\"챔피온(CHAMPION) 챔피온 반팔티셔츠 T425\" class=\"lazyload\" data-original=\"//image.musinsa.com/images/goods_img/20171012/651279/651279_2_125.jpg\" title=\"\"/>,\n",
       " <img alt=\"챔피온(CHAMPION) GT280져지티셔츠 스크립트 챔피온로고\" class=\"lazyload\" data-original=\"//image.musinsa.com/images/goods_img/20180314/735248/735248_1_125.jpg\" title=\"\"/>,\n",
       " <img alt=\"에시드블랙(ACIDBLACK) [세트상품] 리플렉션 로고 반팔티셔츠 (1+1) 반팔 반팔티 티셔츠\" class=\"lazyload\" data-original=\"//image.musinsa.com/images/goods_img/20180424/763603/763603_2_125.jpg\" title=\"\"/>,\n",
       " <img alt=\"트리플에이(AAA) (세트구성)무지 반팔티 1301 블랙+화이트\" class=\"lazyload\" data-original=\"//image.musinsa.com/images/goods_img/20180320/738775/738775_1_125.jpg\" title=\"\"/>,\n",
       " <img alt=\"버닝(BURNING) Office Junior 1/2 T-shirt (Navy)\" class=\"lazyload\" data-original=\"//image.musinsa.com/images/goods_img/20180305/728448/728448_1_125.jpg\" title=\"\"/>,\n",
       " <img alt=\"매드마르스(MADMARS) RAGLAN SLOGAN T-SHIRTS (WHITE)\" class=\"lazyload\" data-original=\"//image.musinsa.com/images/goods_img/20160513/352095/352095_1_125.jpg\" title=\"\"/>,\n",
       " <img alt=\"팀 스컬프터(TEAMSCULPTOR) 팀 스컬프터 로고 티 [화이트]\" class=\"lazyload\" data-original=\"//image.musinsa.com/images/goods_img/20180327/743851/743851_1_125.jpg\" title=\"\"/>,\n",
       " <img alt=\"더블유브이프로젝트(WV PROJECT) 썸머보이스 반팔 블랙 MJST7092\" class=\"lazyload\" data-original=\"//image.musinsa.com/images/goods_img/20170612/575162/575162_1_125.jpg\" title=\"\"/>,\n",
       " <img alt=\"그루브라임(GROOVE RHYME) 2018 3 SURFING MAN T-SHIRTS 1 (BLACK) [GTS004G23BK]\" class=\"lazyload\" data-original=\"//image.musinsa.com/images/goods_img/20180226/724077/724077_2_125.jpg\" title=\"\"/>,\n",
       " <img alt=\"챔피온(CHAMPION) 반팔티 챔피온 티셔츠 무지 로고티 모음 T425\" class=\"lazyload\" data-original=\"//image.musinsa.com/images/goods_img/20180307/730078/730078_1_125.jpg\" title=\"\"/>,\n",
       " <img alt=\"드로우핏(DRAW FIT) 에센셜 베이직 티셔츠[BLUE]\" class=\"lazyload\" data-original=\"//image.musinsa.com/images/goods_img/20180406/750539/750539_1_125.jpg\" title=\"\"/>,\n",
       " <img alt=\"게인스보로(GAINSBORO) [UNISEX]오버핏 코코넛 트리 반팔티 네이비\" class=\"lazyload\" data-original=\"//image.musinsa.com/images/goods_img/20180410/752780/752780_4_125.jpg\" title=\"\"/>,\n",
       " <img alt=\"커버낫(COVERNAT) S/S C LOGO EMBROIDERY POCKET TEE CREAM\" class=\"lazyload\" data-original=\"//image.musinsa.com/images/goods_img/20180412/754924/754924_1_125.jpg\" title=\"\"/>,\n",
       " <img alt=\"그루브라임(GROOVE RHYME) 2018 3 SURFING MAN T-SHIRTS 1 (NAVY) [GTS004G23NA]\" class=\"lazyload\" data-original=\"//image.musinsa.com/images/goods_img/20180226/724081/724081_2_125.jpg\" title=\"\"/>,\n",
       " <img alt=\"키르시(KIRSH) 키르시 체리 티셔츠 HS [블랙]\" class=\"lazyload\" data-original=\"//image.musinsa.com/images/goods_img/20180330/745869/745869_2_125.jpg\" title=\"\"/>,\n",
       " <img alt=\"드로우핏(DRAW FIT) 에센셜 베이직 티셔츠[DEEP GREY]\" class=\"lazyload\" data-original=\"//image.musinsa.com/images/goods_img/20170508/550829/550829_1_125.jpg\" title=\"\"/>,\n",
       " <img alt=\"어커버(ACOVER) 스탠다드 7부 티셔츠 블랙\" class=\"lazyload\" data-original=\"//image.musinsa.com/images/goods_img/20180402/747064/747064_1_125.jpg\" title=\"\"/>,\n",
       " <img alt=\"꼼파뇨(COMPAGNO) [16수] 레터링 타투 오버핏 티셔츠 화이트\" class=\"lazyload\" data-original=\"//image.musinsa.com/images/goods_img/20170322/503399/503399_1_125.jpg\" title=\"\"/>,\n",
       " <img alt=\"더블유브이프로젝트(WV PROJECT) [패키지] 투씬 스트라이프 반팔 티셔츠 1+1패키지 JJST7090\" class=\"lazyload\" data-original=\"//image.musinsa.com/images/goods_img/20170526/565298/565298_1_125.jpg\" title=\"\"/>,\n",
       " <img alt=\"그루브라임(GROOVE RHYME) 2018 USA FLAG RUBBER PRINT T-SHIRTS (WHITE) [GTS041G23WH]\" class=\"lazyload\" data-original=\"//image.musinsa.com/images/goods_img/20180308/730697/730697_1_125.jpg\" title=\"\"/>,\n",
       " <img alt=\"커버낫(COVERNAT) S/S ARCH LOGO TEE BLACK / BLUE\" class=\"lazyload\" data-original=\"//image.musinsa.com/images/goods_img/20170414/538897/538897_2_125.jpg\" title=\"\"/>,\n",
       " <img alt=\"커버낫(COVERNAT) S/S CIRCLE AUTHENTIC LOGO TEE BLACK\" class=\"lazyload\" data-original=\"//image.musinsa.com/images/goods_img/20180417/758665/758665_1_125.jpg\" title=\"\"/>,\n",
       " <img alt=\"아임낫어휴먼비잉(I AM NOT A HUMAN BEING) [18SS] NEW BASIC LOGO T-SHIRT - BLACK\" class=\"lazyload\" data-original=\"//image.musinsa.com/images/goods_img/20180411/754392/754392_1_125.jpg\" title=\"\"/>,\n",
       " <img alt=\"아타르(ATAR) [남녀공용]롱슬리브 티셔츠 화이트\" class=\"lazyload\" data-original=\"//image.musinsa.com/images/goods_img/20160602/363763/363763_7_125.jpg\" title=\"\"/>,\n",
       " <img alt=\"스컬프터(SCULPTOR) 아웃라인 스컬프터 티 [화이트/멜란지/블랙]\" class=\"lazyload\" data-original=\"//image.musinsa.com/images/goods_img/20180316/736539/736539_3_125.jpg\" title=\"\"/>,\n",
       " <img alt=\"펀치라인(PUNCHLINE) MXCCA 스트라이프 반팔 아이보리공군 KHST6049\" class=\"lazyload\" data-original=\"//image.musinsa.com/images/goods_img/20170420/541747/541747_1_125.jpg\" title=\"\"/>,\n",
       " <img alt=\"드로우핏(DRAW FIT) 에센셜 베이직 티셔츠[L.GREY]\" class=\"lazyload\" data-original=\"//image.musinsa.com/images/goods_img/20170413/538283/538283_1_125.jpg\" title=\"\"/>,\n",
       " <img alt=\"매드마르스(MADMARS) RAGLAN SLOGAN T-SHIRTS (YELLOW)\" class=\"lazyload\" data-original=\"//image.musinsa.com/images/goods_img/20160513/352098/352098_1_125.jpg\" title=\"\"/>,\n",
       " <img alt=\"디스이즈네버댓(THISISNEVERTHAT) C-Logo Stripe Tee Black\" class=\"lazyload\" data-original=\"//image.musinsa.com/images/goods_img/20180514/779314/779314_1_125.jpg\" title=\"\"/>,\n",
       " <img alt=\"커버낫(COVERNAT) S/S SUNSET PALM TREE TEE BLACK\" class=\"lazyload\" data-original=\"//image.musinsa.com/images/goods_img/20180404/749012/749012_1_125.jpg\" title=\"\"/>,\n",
       " <img alt=\"팀 스컬프터(TEAMSCULPTOR) 팀 스컬프터 로고 티 [브라운]\" class=\"lazyload\" data-original=\"//image.musinsa.com/images/goods_img/20180327/743847/743847_1_125.jpg\" title=\"\"/>,\n",
       " <img alt=\"키르시(KIRSH) 키르시 체리 티셔츠 HS [화이트]\" class=\"lazyload\" data-original=\"//image.musinsa.com/images/goods_img/20180330/745903/745903_2_125.jpg\" title=\"\"/>,\n",
       " <img alt=\"앤더슨벨(ANDERSSON BELL) 유니섹스 테크노 심볼 티셔츠 atb184u(White)\" class=\"lazyload\" data-original=\"//image.musinsa.com/images/goods_img/20180226/724171/724171_1_125.jpg\" title=\"\"/>,\n",
       " <img alt=\"오베르(OVERR) 18SS SYNTHESIZE WHITE TEE\" class=\"lazyload\" data-original=\"//image.musinsa.com/images/goods_img/20180222/721684/721684_1_125.jpg\" title=\"\"/>,\n",
       " <img alt=\"캔리프(CANLEAP) UNISEX SCARBOROUGH 오버핏  16수 반팔티_블랙\" class=\"lazyload\" data-original=\"//image.musinsa.com/images/goods_img/20170629/585104/585104_2_125.jpg\" title=\"\"/>,\n",
       " <img alt=\"엄브로(UMBRO) UMB X LMC MIXED DIAMOND LOGO TEE (U8221YRS92)\" class=\"lazyload\" data-original=\"//image.musinsa.com/images/goods_img/20180511/778470/778470_2_125.jpg\" title=\"\"/>,\n",
       " <img alt=\"드로우핏(DRAW FIT) 에센셜 베이직 티셔츠[NAVY]\" class=\"lazyload\" data-original=\"//image.musinsa.com/images/goods_img/20170413/538281/538281_1_125.jpg\" title=\"\"/>,\n",
       " <img alt=\"하프크라이즈(HALBKREIS) 리넨 7부 포켓티셔츠 TA-110_CH\" class=\"lazyload\" data-original=\"//image.musinsa.com/images/goods_img/20180509/775076/775076_1_125.jpg\" title=\"\"/>,\n",
       " <img alt=\"트리플에이(AAA) [세트구성] 트리플에이 반팔 1301\" class=\"lazyload\" data-original=\"//image.musinsa.com/images/goods_img/20171128/680026/680026_1_125.jpg\" title=\"\"/>,\n",
       " <img alt=\"브렌슨(BRENSON) 루즈핏 핀스트라이프 사이드절개 티셔츠\" class=\"lazyload\" data-original=\"//image.musinsa.com/images/goods_img/20160610/368046/368046_6_125.jpg\" title=\"\"/>,\n",
       " <img alt=\"커버낫(COVERNAT) S/S AUTHENTIC LOGO TEE GREEN\" class=\"lazyload\" data-original=\"//image.musinsa.com/images/goods_img/20180330/746278/746278_1_125.jpg\" title=\"\"/>,\n",
       " <img alt=\"그루브라임(GROOVE RHYME) 2018 MONUMENT VALLEY BACK PRINT T-SHIRTS (WHITE) [GTS055G23WH]\" class=\"lazyload\" data-original=\"//image.musinsa.com/images/goods_img/20180319/738266/738266_1_125.jpg\" title=\"\"/>,\n",
       " <img alt=\"5252 바이 오아이오아이(5252BYOIOI) 2018 시그니처 티셔츠_옐로우\" class=\"lazyload\" data-original=\"//image.musinsa.com/images/goods_img/20180227/725125/725125_1_125.jpg\" title=\"\"/>,\n",
       " <img alt=\"리플레이컨테이너(REPLAY CONTAINER) replaycontainer sig cotton tee (white)\" class=\"lazyload\" data-original=\"//image.musinsa.com/images/goods_img/20180305/728119/728119_1_125.jpg\" title=\"\"/>,\n",
       " <img alt=\"내셔널지오그래픽(NATIONALGEOGRAPHIC) 내셔널지오그래픽 티셔츠 N185UPA910 유니섹스 2PACK 기능성 쿨 반팔 티셔츠 IRON GREY\" class=\"lazyload\" data-original=\"//image.musinsa.com/images/goods_img/20180319/738030/738030_3_125.jpg\" title=\"\"/>]"
      ]
     },
     "execution_count": 64,
     "metadata": {},
     "output_type": "execute_result"
    }
   ],
   "source": [
    "images[21:]"
   ]
  },
  {
   "cell_type": "code",
   "execution_count": null,
   "metadata": {},
   "outputs": [],
   "source": [
    "\"#contentsItem_list > div.boxed-list-wrapper > div.list-box.box > ul[search_List] > li.li_box > div.li_inner > div.list_img > a > img\"\n",
    "\n"
   ]
  },
  {
   "cell_type": "code",
   "execution_count": 63,
   "metadata": {},
   "outputs": [
    {
     "data": {
      "text/plain": [
       "22"
      ]
     },
     "execution_count": 63,
     "metadata": {},
     "output_type": "execute_result"
    }
   ],
   "source": [
    "score = soup.select(\"div.li_inner > div.article_info > span\")\n",
    "len(images) - len(score)"
   ]
  },
  {
   "cell_type": "code",
   "execution_count": 58,
   "metadata": {},
   "outputs": [
    {
     "ename": "NotImplementedError",
     "evalue": "Only the following pseudo-classes are implemented: nth-of-type.",
     "output_type": "error",
     "traceback": [
      "\u001b[0;31m---------------------------------------------------------------------------\u001b[0m",
      "\u001b[0;31mNotImplementedError\u001b[0m                       Traceback (most recent call last)",
      "\u001b[0;32m<ipython-input-58-c2166d565192>\u001b[0m in \u001b[0;36m<module>\u001b[0;34m()\u001b[0m\n\u001b[0;32m----> 1\u001b[0;31m \u001b[0m_images\u001b[0m \u001b[0;34m=\u001b[0m \u001b[0msoup\u001b[0m\u001b[0;34m.\u001b[0m\u001b[0mselect_one\u001b[0m\u001b[0;34m(\u001b[0m\u001b[0;34m\"#searchList > li:nth-child(1) > div.li_inner > div.list_img > a\"\u001b[0m\u001b[0;34m)\u001b[0m\u001b[0;34m\u001b[0m\u001b[0m\n\u001b[0m\u001b[1;32m      2\u001b[0m \u001b[0mlen\u001b[0m\u001b[0;34m(\u001b[0m\u001b[0m_images\u001b[0m\u001b[0;34m)\u001b[0m\u001b[0;34m\u001b[0m\u001b[0m\n\u001b[1;32m      3\u001b[0m \u001b[0;34m\u001b[0m\u001b[0m\n\u001b[1;32m      4\u001b[0m \u001b[0;31m# _images[1]\u001b[0m\u001b[0;34m\u001b[0m\u001b[0;34m\u001b[0m\u001b[0m\n",
      "\u001b[0;32m~/.pyenv/versions/anaconda3-4.4.0/envs/python_ana/lib/python3.6/site-packages/bs4/element.py\u001b[0m in \u001b[0;36mselect_one\u001b[0;34m(self, selector)\u001b[0m\n\u001b[1;32m   1338\u001b[0m     \u001b[0;32mdef\u001b[0m \u001b[0mselect_one\u001b[0m\u001b[0;34m(\u001b[0m\u001b[0mself\u001b[0m\u001b[0;34m,\u001b[0m \u001b[0mselector\u001b[0m\u001b[0;34m)\u001b[0m\u001b[0;34m:\u001b[0m\u001b[0;34m\u001b[0m\u001b[0m\n\u001b[1;32m   1339\u001b[0m         \u001b[0;34m\"\"\"Perform a CSS selection operation on the current element.\"\"\"\u001b[0m\u001b[0;34m\u001b[0m\u001b[0m\n\u001b[0;32m-> 1340\u001b[0;31m         \u001b[0mvalue\u001b[0m \u001b[0;34m=\u001b[0m \u001b[0mself\u001b[0m\u001b[0;34m.\u001b[0m\u001b[0mselect\u001b[0m\u001b[0;34m(\u001b[0m\u001b[0mselector\u001b[0m\u001b[0;34m,\u001b[0m \u001b[0mlimit\u001b[0m\u001b[0;34m=\u001b[0m\u001b[0;36m1\u001b[0m\u001b[0;34m)\u001b[0m\u001b[0;34m\u001b[0m\u001b[0m\n\u001b[0m\u001b[1;32m   1341\u001b[0m         \u001b[0;32mif\u001b[0m \u001b[0mvalue\u001b[0m\u001b[0;34m:\u001b[0m\u001b[0;34m\u001b[0m\u001b[0m\n\u001b[1;32m   1342\u001b[0m             \u001b[0;32mreturn\u001b[0m \u001b[0mvalue\u001b[0m\u001b[0;34m[\u001b[0m\u001b[0;36m0\u001b[0m\u001b[0;34m]\u001b[0m\u001b[0;34m\u001b[0m\u001b[0m\n",
      "\u001b[0;32m~/.pyenv/versions/anaconda3-4.4.0/envs/python_ana/lib/python3.6/site-packages/bs4/element.py\u001b[0m in \u001b[0;36mselect\u001b[0;34m(self, selector, _candidate_generator, limit)\u001b[0m\n\u001b[1;32m   1530\u001b[0m                     print(\"    Running candidate generator on %s %s\" % (\n\u001b[1;32m   1531\u001b[0m                         tag.name, repr(tag.attrs)))\n\u001b[0;32m-> 1532\u001b[0;31m                 \u001b[0;32mfor\u001b[0m \u001b[0mcandidate\u001b[0m \u001b[0;32min\u001b[0m \u001b[0m_use_candidate_generator\u001b[0m\u001b[0;34m(\u001b[0m\u001b[0mtag\u001b[0m\u001b[0;34m)\u001b[0m\u001b[0;34m:\u001b[0m\u001b[0;34m\u001b[0m\u001b[0m\n\u001b[0m\u001b[1;32m   1533\u001b[0m                     \u001b[0;32mif\u001b[0m \u001b[0;32mnot\u001b[0m \u001b[0misinstance\u001b[0m\u001b[0;34m(\u001b[0m\u001b[0mcandidate\u001b[0m\u001b[0;34m,\u001b[0m \u001b[0mTag\u001b[0m\u001b[0;34m)\u001b[0m\u001b[0;34m:\u001b[0m\u001b[0;34m\u001b[0m\u001b[0m\n\u001b[1;32m   1534\u001b[0m                         \u001b[0;32mcontinue\u001b[0m\u001b[0;34m\u001b[0m\u001b[0m\n",
      "\u001b[0;32m~/.pyenv/versions/anaconda3-4.4.0/envs/python_ana/lib/python3.6/site-packages/bs4/element.py\u001b[0m in \u001b[0;36mrecursive_select\u001b[0;34m(tag)\u001b[0m\n\u001b[1;32m   1491\u001b[0m                         \u001b[0mprint\u001b[0m\u001b[0;34m(\u001b[0m\u001b[0;34m'    Calling select(\"%s\") recursively on %s %s'\u001b[0m \u001b[0;34m%\u001b[0m \u001b[0;34m(\u001b[0m\u001b[0mnext_token\u001b[0m\u001b[0;34m,\u001b[0m \u001b[0mtag\u001b[0m\u001b[0;34m.\u001b[0m\u001b[0mname\u001b[0m\u001b[0;34m,\u001b[0m \u001b[0mtag\u001b[0m\u001b[0;34m.\u001b[0m\u001b[0mattrs\u001b[0m\u001b[0;34m)\u001b[0m\u001b[0;34m)\u001b[0m\u001b[0;34m\u001b[0m\u001b[0m\n\u001b[1;32m   1492\u001b[0m                         \u001b[0mprint\u001b[0m\u001b[0;34m(\u001b[0m\u001b[0;34m'-'\u001b[0m \u001b[0;34m*\u001b[0m \u001b[0;36m40\u001b[0m\u001b[0;34m)\u001b[0m\u001b[0;34m\u001b[0m\u001b[0m\n\u001b[0;32m-> 1493\u001b[0;31m                     \u001b[0;32mfor\u001b[0m \u001b[0mi\u001b[0m \u001b[0;32min\u001b[0m \u001b[0mtag\u001b[0m\u001b[0;34m.\u001b[0m\u001b[0mselect\u001b[0m\u001b[0;34m(\u001b[0m\u001b[0mnext_token\u001b[0m\u001b[0;34m,\u001b[0m \u001b[0mrecursive_candidate_generator\u001b[0m\u001b[0;34m)\u001b[0m\u001b[0;34m:\u001b[0m\u001b[0;34m\u001b[0m\u001b[0m\n\u001b[0m\u001b[1;32m   1494\u001b[0m                         \u001b[0;32mif\u001b[0m \u001b[0mself\u001b[0m\u001b[0;34m.\u001b[0m\u001b[0m_select_debug\u001b[0m\u001b[0;34m:\u001b[0m\u001b[0;34m\u001b[0m\u001b[0m\n\u001b[1;32m   1495\u001b[0m                             \u001b[0mprint\u001b[0m\u001b[0;34m(\u001b[0m\u001b[0;34m'(Recursive select picked up candidate %s %s)'\u001b[0m \u001b[0;34m%\u001b[0m \u001b[0;34m(\u001b[0m\u001b[0mi\u001b[0m\u001b[0;34m.\u001b[0m\u001b[0mname\u001b[0m\u001b[0;34m,\u001b[0m \u001b[0mi\u001b[0m\u001b[0;34m.\u001b[0m\u001b[0mattrs\u001b[0m\u001b[0;34m)\u001b[0m\u001b[0;34m)\u001b[0m\u001b[0;34m\u001b[0m\u001b[0m\n",
      "\u001b[0;32m~/.pyenv/versions/anaconda3-4.4.0/envs/python_ana/lib/python3.6/site-packages/bs4/element.py\u001b[0m in \u001b[0;36mselect\u001b[0;34m(self, selector, _candidate_generator, limit)\u001b[0m\n\u001b[1;32m   1449\u001b[0m                 \u001b[0;32melse\u001b[0m\u001b[0;34m:\u001b[0m\u001b[0;34m\u001b[0m\u001b[0m\n\u001b[1;32m   1450\u001b[0m                     raise NotImplementedError(\n\u001b[0;32m-> 1451\u001b[0;31m                         'Only the following pseudo-classes are implemented: nth-of-type.')\n\u001b[0m\u001b[1;32m   1452\u001b[0m \u001b[0;34m\u001b[0m\u001b[0m\n\u001b[1;32m   1453\u001b[0m             \u001b[0;32melif\u001b[0m \u001b[0mtoken\u001b[0m \u001b[0;34m==\u001b[0m \u001b[0;34m'*'\u001b[0m\u001b[0;34m:\u001b[0m\u001b[0;34m\u001b[0m\u001b[0m\n",
      "\u001b[0;31mNotImplementedError\u001b[0m: Only the following pseudo-classes are implemented: nth-of-type."
     ]
    }
   ],
   "source": [
    "_images = soup.select(\"#searchList > li:nth-child(1) > div.li_inner > div.list_img > \")\n",
    "len(_images)\n",
    "\n",
    "# _images[1]"
   ]
  },
  {
   "cell_type": "code",
   "execution_count": null,
   "metadata": {},
   "outputs": [],
   "source": [
    "#contentsItem_list > div.boxed-list-wrapper"
   ]
  },
  {
   "cell_type": "code",
   "execution_count": 55,
   "metadata": {},
   "outputs": [
    {
     "data": {
      "text/plain": [
       "[]"
      ]
     },
     "execution_count": 55,
     "metadata": {},
     "output_type": "execute_result"
    }
   ],
   "source": [
    "soup.select(\"#contentsItem_list > div.boxed-list-wrapper > div.list-box.box > ul[search_List] > li.li_box > div.li_inner > div.list_img > a > img\")"
   ]
  },
  {
   "cell_type": "code",
   "execution_count": 56,
   "metadata": {},
   "outputs": [],
   "source": [
    "#searchList > li:nth-child(1) > div.li_inner > div.list_img > a"
   ]
  },
  {
   "cell_type": "code",
   "execution_count": null,
   "metadata": {},
   "outputs": [],
   "source": [
    "soup.select"
   ]
  },
  {
   "cell_type": "code",
   "execution_count": null,
   "metadata": {},
   "outputs": [],
   "source": []
  },
  {
   "cell_type": "code",
   "execution_count": null,
   "metadata": {},
   "outputs": [],
   "source": []
  },
  {
   "cell_type": "code",
   "execution_count": null,
   "metadata": {},
   "outputs": [],
   "source": []
  },
  {
   "cell_type": "code",
   "execution_count": null,
   "metadata": {},
   "outputs": [],
   "source": []
  },
  {
   "cell_type": "code",
   "execution_count": null,
   "metadata": {},
   "outputs": [],
   "source": []
  },
  {
   "cell_type": "code",
   "execution_count": null,
   "metadata": {},
   "outputs": [],
   "source": []
  },
  {
   "cell_type": "code",
   "execution_count": null,
   "metadata": {},
   "outputs": [],
   "source": []
  },
  {
   "cell_type": "code",
   "execution_count": null,
   "metadata": {},
   "outputs": [],
   "source": []
  },
  {
   "cell_type": "code",
   "execution_count": null,
   "metadata": {},
   "outputs": [],
   "source": []
  },
  {
   "cell_type": "code",
   "execution_count": null,
   "metadata": {},
   "outputs": [],
   "source": []
  },
  {
   "cell_type": "code",
   "execution_count": null,
   "metadata": {},
   "outputs": [],
   "source": []
  },
  {
   "cell_type": "code",
   "execution_count": null,
   "metadata": {},
   "outputs": [],
   "source": []
  },
  {
   "cell_type": "code",
   "execution_count": null,
   "metadata": {},
   "outputs": [],
   "source": []
  }
 ],
 "metadata": {
  "kernelspec": {
   "display_name": "Python 3",
   "language": "python",
   "name": "python3"
  },
  "language_info": {
   "codemirror_mode": {
    "name": "ipython",
    "version": 3
   },
   "file_extension": ".py",
   "mimetype": "text/x-python",
   "name": "python",
   "nbconvert_exporter": "python",
   "pygments_lexer": "ipython3",
   "version": "3.6.2"
  }
 },
 "nbformat": 4,
 "nbformat_minor": 2
}
